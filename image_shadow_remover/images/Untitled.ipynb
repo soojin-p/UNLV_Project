{
 "cells": [
  {
   "cell_type": "code",
   "execution_count": null,
   "id": "4ba75661-2e7d-483b-a35f-fd310c971eed",
   "metadata": {},
   "outputs": [],
   "source": [
    "import cv2\n",
    "import numpy as np\n",
    "\n",
    "image = cv2.imread('test7_1.jpg')\n",
    "gray = cv2.cvtColor(image, cv2.COLOR_BGR2GRAY)\n",
    "\n",
    "threshold_value = 100  # 원하는 트레시홀드 값으로 조정\n",
    "_, thresholded = cv2.threshold(gray, threshold_value, 255, cv2.THRESH_BINARY)\n",
    "\n",
    "cv2.imshow('Original Image', image)\n",
    "cv2.imshow('Gray Image', gray)\n",
    "cv2.imshow('Thresholded Image', thresholded)\n",
    "cv2.waitKey(0)\n",
    "cv2.destroyAllWindows()\n"
   ]
  },
  {
   "cell_type": "code",
   "execution_count": null,
   "id": "787c0bee-f45e-491d-9ce9-60e87663b5b6",
   "metadata": {},
   "outputs": [],
   "source": []
  }
 ],
 "metadata": {
  "kernelspec": {
   "display_name": "Python 3 (ipykernel)",
   "language": "python",
   "name": "python3"
  },
  "language_info": {
   "codemirror_mode": {
    "name": "ipython",
    "version": 3
   },
   "file_extension": ".py",
   "mimetype": "text/x-python",
   "name": "python",
   "nbconvert_exporter": "python",
   "pygments_lexer": "ipython3",
   "version": "3.11.5"
  }
 },
 "nbformat": 4,
 "nbformat_minor": 5
}
