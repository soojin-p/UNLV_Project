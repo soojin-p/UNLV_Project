{
 "cells": [
  {
   "cell_type": "code",
   "execution_count": 1,
   "id": "2121c430-eda0-4175-b481-5d9803ed80b2",
   "metadata": {
    "tags": []
   },
   "outputs": [
    {
     "ename": "ModuleNotFoundError",
     "evalue": "No module named 'cv2'",
     "output_type": "error",
     "traceback": [
      "\u001b[0;31m---------------------------------------------------------------------------\u001b[0m",
      "\u001b[0;31mModuleNotFoundError\u001b[0m                       Traceback (most recent call last)",
      "Cell \u001b[0;32mIn[1], line 1\u001b[0m\n\u001b[0;32m----> 1\u001b[0m \u001b[38;5;28;01mimport\u001b[39;00m \u001b[38;5;21;01mcv2\u001b[39;00m\n\u001b[1;32m      2\u001b[0m \u001b[38;5;28;01mimport\u001b[39;00m \u001b[38;5;21;01mnumpy\u001b[39;00m \u001b[38;5;28;01mas\u001b[39;00m \u001b[38;5;21;01mnp\u001b[39;00m\n\u001b[1;32m      3\u001b[0m \u001b[38;5;28;01mimport\u001b[39;00m \u001b[38;5;21;01mskimage\u001b[39;00m\u001b[38;5;21;01m.\u001b[39;00m\u001b[38;5;21;01mfilters\u001b[39;00m \u001b[38;5;28;01mas\u001b[39;00m \u001b[38;5;21;01mfilters\u001b[39;00m\n",
      "\u001b[0;31mModuleNotFoundError\u001b[0m: No module named 'cv2'"
     ]
    }
   ],
   "source": [
    "import cv2\n",
    "import numpy as np\n",
    "import skimage.filters as filters\n",
    "\n",
    "# read the image\n",
    "image = cv2.imread('test7.jpg')\n",
    "\n",
    "# convert to gray\n",
    "gray = cv2.cvtColor(image, cv2.COLOR_BGR2GRAY)\n",
    "\n",
    "# blur\n",
    "smooth = cv2.GaussianBlur(gray, (95, 95), 0)\n",
    "\n",
    "# divide gray by enhanced contrast\n",
    "division = cv2.divide(gray, smooth, scale=255)\n",
    "\n",
    "# enhance contrast\n",
    "enhanced_contrast = cv2.equalizeHist(division)\n",
    "\n",
    "# sharpen using unsharp masking\n",
    "sharp = filters.unsharp_mask(enhanced_contrast, radius=1.5, amount=1.5)\n",
    "sharp = (255*sharp).clip(0,255).astype(np.uint8)\n",
    "# threshold\n",
    "thresh = cv2.threshold(sharp, 0, 255, cv2.THRESH_BINARY + cv2.THRESH_OTSU)[1]\n",
    "\n",
    "\n",
    "# show results\n",
    "cv2.imshow('smooth', smooth)\n",
    "cv2.imshow('division', division)\n",
    "cv2.imshow('sharp', sharp)\n",
    "cv2.imshow('thresh', thresh)\n",
    "cv2.imshow('enhanced_contrast',enhanced_contrast)\n",
    "\n",
    "cv2.waitKey(0)\n",
    "cv2.destroyAllWindows()\n"
   ]
  },
  {
   "cell_type": "code",
   "execution_count": null,
   "id": "620918dd-6c9f-4f29-9fc2-5a9f5886f654",
   "metadata": {},
   "outputs": [],
   "source": []
  },
  {
   "cell_type": "code",
   "execution_count": null,
   "id": "66dfc30c-cb50-4e38-964e-20cd8e8606aa",
   "metadata": {},
   "outputs": [],
   "source": []
  }
 ],
 "metadata": {
  "kernelspec": {
   "display_name": "Python 3 (ipykernel)",
   "language": "python",
   "name": "python3"
  },
  "language_info": {
   "codemirror_mode": {
    "name": "ipython",
    "version": 3
   },
   "file_extension": ".py",
   "mimetype": "text/x-python",
   "name": "python",
   "nbconvert_exporter": "python",
   "pygments_lexer": "ipython3",
   "version": "3.11.5"
  }
 },
 "nbformat": 4,
 "nbformat_minor": 5
}
