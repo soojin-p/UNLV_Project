{
 "cells": [
  {
   "cell_type": "markdown",
   "metadata": {
    "id": "bXgqAdsDK977"
   },
   "source": [
    "## Shadow Removal Code \n",
    "\n",
    "by Yalım Doğan\n",
    "\n",
    "This software is implemented according to the methods presented in:\n",
    "\n",
    "- Murali, Saritha, and V. K. Govindan. \n",
    "\"Removal of shadows from a single image.\" \n",
    "the Proceedings of First International Conference on Futuristic Trends \n",
    "in Computer Science and Engineering. Vol. 4.\n",
    "\n",
    "- Murali, Saritha, and V. K. Govindan. \n",
    "\"Shadow detection and removal from a single image using LAB color space.\" \n",
    "Cybernetics and information technologies 13.1 (2013): 95-103."
   ]
  },
  {
   "cell_type": "code",
   "execution_count": 1,
   "metadata": {
    "id": "oUuONypuKx6g",
    "pycharm": {
     "is_executing": true
    },
    "tags": []
   },
   "outputs": [],
   "source": [
    "\n",
    "import cv2 as cv\n",
    "import numpy as np\n",
    "from skimage import measure\n",
    "from matplotlib import pyplot as plt\n",
    "\n",
    "from typing import Tuple, List"
   ]
  },
  {
   "cell_type": "code",
   "execution_count": 2,
   "metadata": {
    "id": "uvWlExO4zKnv",
    "pycharm": {
     "is_executing": true
    },
    "tags": []
   },
   "outputs": [],
   "source": [
    "# Applies median filtering over given point\n",
    "def median_filter(img: np.ndarray,\n",
    "                  point: np.ndarray,\n",
    "                  filter_size: int) -> List:\n",
    "    indices = [[x, y]\n",
    "               for x in range(point[1] - filter_size // 2, point[1] + filter_size // 2 + 1)\n",
    "               for y in range(point[0] - filter_size // 2, point[0] + filter_size // 2 + 1)]\n",
    "\n",
    "    indices = list(filter(lambda x: not (x[0] < 0 or x[1] < 0 or\n",
    "                                         x[0] >= img.shape[0] or\n",
    "                                         x[1] >= img.shape[1]), indices))\n",
    "\n",
    "    pixel_values = [0, 0, 0]\n",
    "\n",
    "    # Find the median of pixel values\n",
    "    for channel in range(3):\n",
    "        pixel_values[channel] = list(img[index[0], index[1], channel] for index in indices)\n",
    "    pixel_values = list(np.median(pixel_values, axis=1))\n",
    "\n",
    "    return pixel_values\n",
    "\n",
    "\n",
    "# Applies median filtering on given contour pixels, the filter size is adjustable\n",
    "def edge_median_filter(img: np.ndarray,\n",
    "                       contours_list: tuple,\n",
    "                       filter_size: int = 7) -> np.ndarray:\n",
    "    temp_img = np.copy(img)\n",
    "\n",
    "    for partition in contours_list:\n",
    "        for point in partition:\n",
    "            temp_img[point[0][1]][point[0][0]] = median_filter(img,\n",
    "                                                               point[0],\n",
    "                                                               filter_size)\n",
    "\n",
    "    return cv.cvtColor(temp_img, cv.COLOR_HSV2BGR)"
   ]
  },
  {
   "cell_type": "code",
   "execution_count": 3,
   "metadata": {
    "pycharm": {
     "is_executing": true,
     "name": "#%%\n"
    },
    "tags": []
   },
   "outputs": [],
   "source": [
    "def display_region(org_image: np.ndarray,\n",
    "                   shadow_clear_image: np.ndarray,\n",
    "                   label: int,\n",
    "                   label_region: np.ndarray,\n",
    "                   contours: tuple) -> None:\n",
    "    # For debugging, cut the current shadow region from the image\n",
    "    reverse_mask = cv.cvtColor(cv.bitwise_not(label_region), cv.COLOR_GRAY2BGR)\n",
    "    img_w_hole = org_image & reverse_mask\n",
    "\n",
    "    temp_filter = cv.cvtColor(label_region, cv.COLOR_GRAY2BGR)\n",
    "    cv.drawContours(temp_filter, contours, -1, (255, 0, 0), 3)\n",
    "\n",
    "    fig, axes = plt.subplots(2, 2)\n",
    "\n",
    "    ax = axes.ravel()\n",
    "\n",
    "    plt.title(f\"Shadow Region {label}\")\n",
    "\n",
    "    ax[0].imshow(cv.cvtColor(org_image, cv.COLOR_BGR2RGB))\n",
    "    ax[0].set_title(\"Original Image\")\n",
    "\n",
    "    ax[1].imshow(cv.cvtColor(temp_filter, cv.COLOR_BGR2RGB))\n",
    "    ax[1].set_title(\"Shadow Region\")\n",
    "\n",
    "    ax[2].imshow(cv.cvtColor(img_w_hole, cv.COLOR_BGR2RGB))\n",
    "    ax[2].set_title(\"Shadow Region Cut\")\n",
    "\n",
    "    ax[3].imshow(cv.cvtColor(shadow_clear_image, cv.COLOR_BGR2RGB))\n",
    "    ax[3].set_title(\"Corrected Image\")\n",
    "\n",
    "    plt.tight_layout()\n",
    "    plt.show()"
   ]
  },
  {
   "cell_type": "code",
   "execution_count": 4,
   "metadata": {
    "pycharm": {
     "is_executing": true,
     "name": "#%%\n"
    },
    "tags": []
   },
   "outputs": [],
   "source": [
    "def correct_region_lab(org_img: np.ndarray,\n",
    "                       shadow_clear_img: np.ndarray,\n",
    "                       shadow_indices: np.ndarray,\n",
    "                       non_shadow_indices: np.ndarray) -> np.ndarray:\n",
    "    # Q: Rather than asking for RGB constants individually, why not adjust L only?\n",
    "    # A: L component isn't enough to REVIVE the colors that were under the shadow.\n",
    "\n",
    "    # Calculate average LAB values in current shadow region and non-shadow areas\n",
    "    shadow_average_lab = np.mean(org_img[shadow_indices[0], shadow_indices[1], :], axis=0)\n",
    "\n",
    "    # Get the average LAB from border areas\n",
    "    border_average_lab = np.mean(org_img[non_shadow_indices[0], non_shadow_indices[1], :],\n",
    "                                 axis=0)\n",
    "\n",
    "    # Calculate ratios that are going to be used on clearing the current shadow region\n",
    "    # This is different for each region, therefore calculated each time\n",
    "    lab_ratio = border_average_lab / shadow_average_lab\n",
    "\n",
    "    shadow_clear_img = cv.cvtColor(shadow_clear_img, cv.COLOR_BGR2LAB)\n",
    "    shadow_clear_img[shadow_indices[0], shadow_indices[1]] = np.uint8(\n",
    "        shadow_clear_img[shadow_indices[0],\n",
    "                         shadow_indices[1]] * lab_ratio)\n",
    "    shadow_clear_img = cv.cvtColor(shadow_clear_img, cv.COLOR_LAB2BGR)\n",
    "\n",
    "    return shadow_clear_img\n",
    "\n",
    "\n",
    "def correct_region_bgr(org_img: np.ndarray,\n",
    "                       shadow_clear_img: np.ndarray,\n",
    "                       shadow_indices: np.ndarray,\n",
    "                       non_shadow_indices: np.ndarray) -> np.ndarray:\n",
    "    # Calculate average BGR values in current shadow region and non-shadow areas\n",
    "    shadow_average_bgr = np.mean(org_img[shadow_indices[0], shadow_indices[1], :], axis=0)\n",
    "\n",
    "    # Get the average BGR from border areas\n",
    "    border_average_bgr = np.mean(org_img[non_shadow_indices[0], non_shadow_indices[1], :], axis=0)\n",
    "    bgr_ratio = border_average_bgr / shadow_average_bgr\n",
    "\n",
    "    # Adjust BGR\n",
    "    shadow_clear_img[shadow_indices[0], shadow_indices[1]] = np.uint8(\n",
    "        shadow_clear_img[shadow_indices[0],\n",
    "                         shadow_indices[1]] * bgr_ratio)\n",
    "\n",
    "    return shadow_clear_img"
   ]
  },
  {
   "cell_type": "code",
   "execution_count": 5,
   "metadata": {
    "id": "laUatiDZleV9",
    "pycharm": {
     "is_executing": true
    },
    "tags": []
   },
   "outputs": [],
   "source": [
    "def process_regions(org_image: np.ndarray,\n",
    "                    mask: np.ndarray,\n",
    "                    lab_adjustment: bool,\n",
    "                    shadow_dilation_kernel_size: int,\n",
    "                    shadow_dilation_iteration: int,\n",
    "                    shadow_size_threshold: int,\n",
    "                    verbose: bool) -> np.ndarray:\n",
    "    lab_img = cv.cvtColor(org_image, cv.COLOR_BGR2LAB)\n",
    "    shadow_clear_img = np.copy(org_image)  # Used for constructing corrected image\n",
    "\n",
    "    # We need connected components\n",
    "    # Initialize the labels of the blobs in our binary image\n",
    "    labels = measure.label(mask)\n",
    "\n",
    "    non_shadow_kernel_size = (shadow_dilation_kernel_size, shadow_dilation_kernel_size)\n",
    "    non_shadow_kernel = cv.getStructuringElement(cv.MORPH_ELLIPSE, non_shadow_kernel_size)\n",
    "\n",
    "    CHANNEL_MAX = 255\n",
    "\n",
    "    # Now, we will iterate over each label's pixels\n",
    "    for label in np.unique(labels):\n",
    "        if not label == 0:\n",
    "            temp_filter = np.zeros(mask.shape, dtype=\"uint8\")\n",
    "            temp_filter[labels == label] = CHANNEL_MAX\n",
    "\n",
    "            # Only consider blobs with size above threshold\n",
    "            if cv.countNonZero(temp_filter) >= shadow_size_threshold:\n",
    "                shadow_indices = np.where(temp_filter == CHANNEL_MAX)\n",
    "\n",
    "                non_shadow_temp_filter = cv.dilate(temp_filter, non_shadow_kernel,\n",
    "                                                   iterations=shadow_dilation_iteration)\n",
    "\n",
    "                # Get the new set of indices and remove shadow indices from them\n",
    "                non_shadow_temp_filter = cv.bitwise_xor(non_shadow_temp_filter, temp_filter)\n",
    "                non_shadow_indices = np.where(non_shadow_temp_filter == CHANNEL_MAX)\n",
    "\n",
    "                # Contours are used for extracting the edges of the current shadow region\n",
    "                contours, hierarchy = cv.findContours(temp_filter, cv.RETR_TREE, cv.CHAIN_APPROX_SIMPLE)\n",
    "\n",
    "                if lab_adjustment:\n",
    "                    shadow_clear_img = correct_region_lab(lab_img, shadow_clear_img,\n",
    "                                                          shadow_indices, non_shadow_indices)\n",
    "                else:\n",
    "                    shadow_clear_img = correct_region_bgr(org_image, shadow_clear_img,\n",
    "                                                          shadow_indices, non_shadow_indices)\n",
    "\n",
    "                # Then apply median filtering over edges to smooth them\n",
    "                # At least on the images I tried, this doesn't work as intended.\n",
    "                # It is possible that this is the result of using a high frequency image only\n",
    "\n",
    "                # Image is converted to HSV before filtering, as BGR components of the image\n",
    "                # is more interconnected, therefore filtering each channel independently wouldn't be correct\n",
    "                shadow_clear_img = edge_median_filter(cv.cvtColor(shadow_clear_img, cv.COLOR_BGR2HSV),\n",
    "                                                      contours)\n",
    "                if verbose:\n",
    "                    display_region(org_image, shadow_clear_img, label, temp_filter, contours)\n",
    "\n",
    "    return shadow_clear_img"
   ]
  },
  {
   "cell_type": "code",
   "execution_count": 6,
   "metadata": {
    "id": "R4ppRYL4mSUa",
    "pycharm": {
     "is_executing": true
    },
    "tags": []
   },
   "outputs": [],
   "source": [
    "def calculate_mask(org_image: np.ndarray,\n",
    "                   ab_threshold: int,\n",
    "                   region_adjustment_kernel_size: int) -> np.ndarray:\n",
    "    lab_img = cv.cvtColor(org_image, cv.COLOR_BGR2LAB)\n",
    "\n",
    "    # Convert the L,A,B from 0 to 255 to 0 - 100 and -128 - 127 and -128 - 127 respectively\n",
    "    l_range = (0, 100)\n",
    "    ab_range = (-128, 127)\n",
    "\n",
    "    lab_img = lab_img.astype('int16')\n",
    "    lab_img[:, :, 0] = lab_img[:, :, 0] * l_range[1] / 255\n",
    "    lab_img[:, :, 1] += ab_range[0]\n",
    "    lab_img[:, :, 2] += ab_range[0]\n",
    "\n",
    "    # Calculate the mean values of L, A and B across all pixels\n",
    "    means = [np.mean(lab_img[:, :, i]) for i in range(3)]\n",
    "    thresholds = [means[i] - (np.std(lab_img[:, :, i]) / 3) for i in range(3)]\n",
    "\n",
    "    # Apply threshold using only L\n",
    "    if sum(means[1:]) <= ab_threshold:\n",
    "        mask = cv.inRange(lab_img, (l_range[0], ab_range[0], ab_range[0]),\n",
    "                                   (thresholds[0], ab_range[1], ab_range[1]))\n",
    "    else:  # Else, also consider B channel\n",
    "        mask = cv.inRange(lab_img, (l_range[0], ab_range[0], ab_range[0]),\n",
    "                                   (thresholds[0], ab_range[1], thresholds[2]))\n",
    "\n",
    "    kernel_size = (region_adjustment_kernel_size, region_adjustment_kernel_size)\n",
    "    kernel = cv.getStructuringElement(cv.MORPH_ELLIPSE, kernel_size)\n",
    "    cv.morphologyEx(mask, cv.MORPH_CLOSE, kernel, mask)\n",
    "    cv.morphologyEx(mask, cv.MORPH_OPEN, kernel, mask)\n",
    "\n",
    "    return mask"
   ]
  },
  {
   "cell_type": "code",
   "execution_count": 7,
   "metadata": {
    "id": "zCcS_-PtLEQB",
    "pycharm": {
     "is_executing": true
    },
    "tags": []
   },
   "outputs": [],
   "source": [
    "def remove_shadows(org_image: np.ndarray,\n",
    "                   ab_threshold: int,\n",
    "                   lab_adjustment: bool,\n",
    "                   region_adjustment_kernel_size: int,\n",
    "                   shadow_dilation_iteration: int,\n",
    "                   shadow_dilation_kernel_size: int,\n",
    "                   shadow_size_threshold: int,\n",
    "                   verbose: bool) -> Tuple[np.ndarray, np.ndarray]:\n",
    "    mask = calculate_mask(org_image,\n",
    "                          ab_threshold,\n",
    "                          region_adjustment_kernel_size)\n",
    "\n",
    "    shadow_clear_img = process_regions(org_image,\n",
    "                                       mask,\n",
    "                                       lab_adjustment,\n",
    "                                       shadow_dilation_kernel_size,\n",
    "                                       shadow_dilation_iteration,\n",
    "                                       shadow_size_threshold,\n",
    "                                       verbose)\n",
    "\n",
    "    mask = cv.cvtColor(mask, cv.COLOR_GRAY2RGB)\n",
    "\n",
    "    return shadow_clear_img, mask"
   ]
  },
  {
   "cell_type": "code",
   "execution_count": 8,
   "metadata": {
    "id": "3vuP5Gafz0ch",
    "pycharm": {
     "is_executing": true
    },
    "tags": []
   },
   "outputs": [],
   "source": [
    "def process_image_file(img_name: str,\n",
    "                       save: bool = False,\n",
    "                       ab_threshold: int = 256,\n",
    "                       lab_adjustment: bool = False,\n",
    "                       region_adjustment_kernel_size: int = 10,\n",
    "                       shadow_dilation_kernel_size: int = 5,\n",
    "                       shadow_dilation_iteration: int = 3,\n",
    "                       shadow_size_threshold: int = 2500,\n",
    "                       verbose: bool = False) -> Tuple[np.ndarray, np.ndarray, np.ndarray]:\n",
    "    org_image = cv.imread(img_name)\n",
    "    print(\"Read the image {}\".format(img_name))\n",
    "\n",
    "    shadow_clear, mask = remove_shadows(org_image,\n",
    "                                        ab_threshold,\n",
    "                                        lab_adjustment,\n",
    "                                        region_adjustment_kernel_size,\n",
    "                                        shadow_dilation_iteration,\n",
    "                                        shadow_dilation_kernel_size,\n",
    "                                        shadow_size_threshold,\n",
    "                                        verbose=verbose)\n",
    "\n",
    "    _, axes = plt.subplots(1, 3)\n",
    "    ax = axes.ravel()\n",
    "\n",
    "    plt.title(\"Final Results\")\n",
    "\n",
    "    ax[0].imshow(cv.cvtColor(org_image, cv.COLOR_BGR2RGB))\n",
    "    ax[0].set_title(\"Original Image\")\n",
    "\n",
    "    ax[1].imshow(cv.cvtColor(mask, cv.COLOR_BGR2RGB))\n",
    "    ax[1].set_title(\"Shadow Regions\")\n",
    "\n",
    "    ax[2].imshow(cv.cvtColor(shadow_clear, cv.COLOR_BGR2RGB))\n",
    "    ax[2].set_title(\"Corrected Image\")\n",
    "\n",
    "    plt.tight_layout()\n",
    "    plt.show()\n",
    "\n",
    "    if save:\n",
    "        f_name = img_name[:img_name.index(\".\")] + \"_shadowClear\" + img_name[img_name.index(\".\"):]\n",
    "        cv.imwrite(f_name, shadow_clear)\n",
    "        print(\"Saved result as \" + f_name)\n",
    "\n",
    "    return org_image, mask, shadow_clear"
   ]
  },
  {
   "cell_type": "code",
   "execution_count": 9,
   "metadata": {
    "colab": {
     "base_uri": "https://localhost:8080/",
     "height": 1000
    },
    "id": "ape66Nz1LJon",
    "outputId": "71ce642d-4bc6-4a0b-cff7-edf393d4f4dc",
    "pycharm": {
     "is_executing": true,
     "name": "#%%\n"
    },
    "tags": []
   },
   "outputs": [
    {
     "ename": "AttributeError",
     "evalue": "'numpy.ndarray' object has no attribute 'show'",
     "output_type": "error",
     "traceback": [
      "\u001b[0;31m---------------------------------------------------------------------------\u001b[0m",
      "\u001b[0;31mAttributeError\u001b[0m                            Traceback (most recent call last)",
      "Cell \u001b[0;32mIn[9], line 4\u001b[0m\n\u001b[1;32m      2\u001b[0m img \u001b[38;5;241m=\u001b[39m cv\u001b[38;5;241m.\u001b[39mimread(image_path)\n\u001b[1;32m      3\u001b[0m gray_image \u001b[38;5;241m=\u001b[39m cv\u001b[38;5;241m.\u001b[39mcvtColor(img,cv\u001b[38;5;241m.\u001b[39mCOLOR_BGR2GRAY)\n\u001b[0;32m----> 4\u001b[0m gray_image\u001b[38;5;241m.\u001b[39mshow()\n",
      "\u001b[0;31mAttributeError\u001b[0m: 'numpy.ndarray' object has no attribute 'show'"
     ]
    }
   ],
   "source": [
    "\n",
    "image_path = \"images/test7_1.jpg\"\n",
    "img = cv.imread(image_path)\n",
    "gray_image = cv.cvtColor(img,cv.COLOR_BGR2GRAY)\n",
    "gray_image.show()"
   ]
  },
  {
   "cell_type": "code",
   "execution_count": 15,
   "metadata": {
    "tags": []
   },
   "outputs": [
    {
     "ename": "TypeError",
     "evalue": "Can't convert object of type 'numpy.ndarray' to 'str' for 'filename'",
     "output_type": "error",
     "traceback": [
      "\u001b[0;31m---------------------------------------------------------------------------\u001b[0m",
      "\u001b[0;31mTypeError\u001b[0m                                 Traceback (most recent call last)",
      "Cell \u001b[0;32mIn[15], line 1\u001b[0m\n\u001b[0;32m----> 1\u001b[0m org_image, mask, image_clear \u001b[38;5;241m=\u001b[39m process_image_file(gray_image, ab_threshold \u001b[38;5;241m=\u001b[39m \u001b[38;5;241m0\u001b[39m, save \u001b[38;5;241m=\u001b[39m \u001b[38;5;28;01mTrue\u001b[39;00m, verbose \u001b[38;5;241m=\u001b[39m \u001b[38;5;28;01mTrue\u001b[39;00m)\n",
      "Cell \u001b[0;32mIn[13], line 10\u001b[0m, in \u001b[0;36mprocess_image_file\u001b[0;34m(img_name, save, ab_threshold, lab_adjustment, region_adjustment_kernel_size, shadow_dilation_kernel_size, shadow_dilation_iteration, shadow_size_threshold, verbose)\u001b[0m\n\u001b[1;32m      1\u001b[0m \u001b[38;5;28;01mdef\u001b[39;00m \u001b[38;5;21mprocess_image_file\u001b[39m(img_name: \u001b[38;5;28mstr\u001b[39m,\n\u001b[1;32m      2\u001b[0m                        save: \u001b[38;5;28mbool\u001b[39m \u001b[38;5;241m=\u001b[39m \u001b[38;5;28;01mFalse\u001b[39;00m,\n\u001b[1;32m      3\u001b[0m                        ab_threshold: \u001b[38;5;28mint\u001b[39m \u001b[38;5;241m=\u001b[39m \u001b[38;5;241m256\u001b[39m,\n\u001b[0;32m   (...)\u001b[0m\n\u001b[1;32m      8\u001b[0m                        shadow_size_threshold: \u001b[38;5;28mint\u001b[39m \u001b[38;5;241m=\u001b[39m \u001b[38;5;241m2500\u001b[39m,\n\u001b[1;32m      9\u001b[0m                        verbose: \u001b[38;5;28mbool\u001b[39m \u001b[38;5;241m=\u001b[39m \u001b[38;5;28;01mFalse\u001b[39;00m) \u001b[38;5;241m-\u001b[39m\u001b[38;5;241m>\u001b[39m Tuple[np\u001b[38;5;241m.\u001b[39mndarray, np\u001b[38;5;241m.\u001b[39mndarray, np\u001b[38;5;241m.\u001b[39mndarray]:\n\u001b[0;32m---> 10\u001b[0m     org_image \u001b[38;5;241m=\u001b[39m cv\u001b[38;5;241m.\u001b[39mimread(img_name)\n\u001b[1;32m     11\u001b[0m     \u001b[38;5;28mprint\u001b[39m(\u001b[38;5;124m\"\u001b[39m\u001b[38;5;124mRead the image \u001b[39m\u001b[38;5;132;01m{}\u001b[39;00m\u001b[38;5;124m\"\u001b[39m\u001b[38;5;241m.\u001b[39mformat(img_name))\n\u001b[1;32m     13\u001b[0m     shadow_clear, mask \u001b[38;5;241m=\u001b[39m remove_shadows(org_image,\n\u001b[1;32m     14\u001b[0m                                         ab_threshold,\n\u001b[1;32m     15\u001b[0m                                         lab_adjustment,\n\u001b[0;32m   (...)\u001b[0m\n\u001b[1;32m     19\u001b[0m                                         shadow_size_threshold,\n\u001b[1;32m     20\u001b[0m                                         verbose\u001b[38;5;241m=\u001b[39mverbose)\n",
      "\u001b[0;31mTypeError\u001b[0m: Can't convert object of type 'numpy.ndarray' to 'str' for 'filename'"
     ]
    }
   ],
   "source": [
    "org_image, mask, image_clear = process_image_file(gray_image, ab_threshold = 0, save = True, verbose = True)"
   ]
  },
  {
   "cell_type": "code",
   "execution_count": null,
   "metadata": {},
   "outputs": [],
   "source": []
  }
 ],
 "metadata": {
  "colab": {
   "collapsed_sections": [],
   "name": "Shadow Demo.ipynb",
   "provenance": []
  },
  "kernelspec": {
   "display_name": "Python 3 (ipykernel)",
   "language": "python",
   "name": "python3"
  },
  "language_info": {
   "codemirror_mode": {
    "name": "ipython",
    "version": 3
   },
   "file_extension": ".py",
   "mimetype": "text/x-python",
   "name": "python",
   "nbconvert_exporter": "python",
   "pygments_lexer": "ipython3",
   "version": "3.11.5"
  }
 },
 "nbformat": 4,
 "nbformat_minor": 4
}
